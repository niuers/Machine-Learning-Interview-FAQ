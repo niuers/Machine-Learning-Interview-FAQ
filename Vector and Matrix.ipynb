{
 "cells": [
  {
   "cell_type": "markdown",
   "metadata": {},
   "source": [
    "## What’s the geometric interpretation of the dot product of two vectors?"
   ]
  },
  {
   "cell_type": "markdown",
   "metadata": {},
   "source": [
    "Given two vectors $u$ and $v$, the dot product is $uv=\\|u\\|\\|v\\|\\cos\\theta$. Where $\\|u\\|\\cos\\theta$ can be regarded as the projection of vector $u$ on vector $v$, so the dot product of $u$ and $v$ is the magnitude of one vector onto another multiplied by the other's magnitude."
   ]
  },
  {
   "cell_type": "markdown",
   "metadata": {},
   "source": [
    "## Given a vector  u , find vector  v  of unit length such that the dot product of  u  and  v  is maximum."
   ]
  },
  {
   "cell_type": "markdown",
   "metadata": {},
   "source": [
    "From previous question, if $u$ is given, and $v$ has unit length, i.e. $\\|v\\|=1$, the dot product of two is $uv=\\|u\\|\\cos\\theta$, so it's maximized when $\\cos\\theta = 1$, i.e. $\\theta=0$ such that $v$ is in the same direction of $u$"
   ]
  },
  {
   "cell_type": "markdown",
   "metadata": {},
   "source": [
    "## Given two vectors  $a=[3,2,1]$  and  $b=[−1,0,1]$ . Calculate the outer product  $a\\otimes b$ ?"
   ]
  },
  {
   "cell_type": "markdown",
   "metadata": {},
   "source": [
    "$a\\otimes b = ab^T==\\begin{bmatrix}3\\\\2\\\\1\\end{bmatrix}\\begin{bmatrix}-1 & 0 & 1 \\end{bmatrix} = \\begin{bmatrix}-3 & 0 & 3 \\\\ -2 & 0 & 2 \\\\ -1 & 0 & 1\\end{bmatrix}$"
   ]
  },
  {
   "cell_type": "markdown",
   "metadata": {},
   "source": [
    "## TODO Give an example of how the outer product can be useful in ML."
   ]
  },
  {
   "cell_type": "code",
   "execution_count": null,
   "metadata": {},
   "outputs": [],
   "source": []
  }
 ],
 "metadata": {
  "kernelspec": {
   "display_name": "Python 3",
   "language": "python",
   "name": "python3"
  },
  "language_info": {
   "codemirror_mode": {
    "name": "ipython",
    "version": 3
   },
   "file_extension": ".py",
   "mimetype": "text/x-python",
   "name": "python",
   "nbconvert_exporter": "python",
   "pygments_lexer": "ipython3",
   "version": "3.7.3"
  }
 },
 "nbformat": 4,
 "nbformat_minor": 2
}
