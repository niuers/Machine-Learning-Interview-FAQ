{
 "cells": [
  {
   "cell_type": "markdown",
   "metadata": {},
   "source": [
    "## TODO Give an example of how the outer product can be useful in ML."
   ]
  },
  {
   "cell_type": "markdown",
   "metadata": {},
   "source": [
    "## What’s the geometric interpretation of the dot product of two vectors?"
   ]
  },
  {
   "cell_type": "markdown",
   "metadata": {},
   "source": [
    "Given two vectors $u$ and $v$, the dot product is $uv=\\|u\\|\\|v\\|\\cos\\theta$. Where $\\|u\\|\\cos\\theta$ can be regarded as the projection of vector $u$ on vector $v$, so the dot product of $u$ and $v$ is the magnitude of one vector onto another multiplied by the other's magnitude."
   ]
  },
  {
   "cell_type": "markdown",
   "metadata": {},
   "source": [
    "## Given a vector  u , find vector  v  of unit length such that the dot product of  u  and  v  is maximum."
   ]
  },
  {
   "cell_type": "markdown",
   "metadata": {},
   "source": [
    "From previous question, if $u$ is given, and $v$ has unit length, i.e. $\\|v\\|=1$, the dot product of two is $uv=\\|u\\|\\cos\\theta$, so it's maximized when $\\cos\\theta = 1$, i.e. $\\theta=0$ such that $v$ is in the same direction of $u$"
   ]
  },
  {
   "cell_type": "markdown",
   "metadata": {},
   "source": [
    "## Given two vectors  $a=[3,2,1]$  and  $b=[−1,0,1]$ . Calculate the outer product  $a\\otimes b$ ?"
   ]
  },
  {
   "cell_type": "markdown",
   "metadata": {},
   "source": [
    "$a\\otimes b = ab^T==\\begin{bmatrix}3\\\\2\\\\1\\end{bmatrix}\\begin{bmatrix}-1 & 0 & 1 \\end{bmatrix} = \\begin{bmatrix}-3 & 0 & 3 \\\\ -2 & 0 & 2 \\\\ -1 & 0 & 1\\end{bmatrix}$"
   ]
  },
  {
   "cell_type": "markdown",
   "metadata": {},
   "source": [
    "## What does it mean for two vectors to be linearly independent?"
   ]
  },
  {
   "cell_type": "markdown",
   "metadata": {},
   "source": [
    "A sequence of vectors $v_1,\\dots,v_k$ are said to be \"linearly independent\" if the equation $a_1v_1 + \\dots + a_kv_k = 0$ can only be satisfied by $a_i = 0, i=1,\\dots,k$.\n",
    "\n",
    "This implies:\n",
    "1. No vector in the sequence can be represented as a linear combination of the remaining vectors in the sequence.\n",
    "2. The *zero vector* can't be one of \"linearly independent\" vectors.\n",
    "\n",
    "The vectors are said to be \"linearly dependent\" if there exist scalars $a_1, \\dots, a_k$ not all zero, such that\n",
    "$a_1v_1 + \\dots + a_kv_k = 0$. Thus, a set of vectors is linearly dependent if and only if one of them is zero or a linear combination of the others.\n",
    "\n",
    "References:\n",
    "1. [Linearly Independence on Wiki](https://en.wikipedia.org/wiki/Linear_independence)"
   ]
  },
  {
   "cell_type": "markdown",
   "metadata": {},
   "source": [
    "## Given  $n$  vectors, each of  $d$  dimensions. What is the dimension of their span?"
   ]
  },
  {
   "cell_type": "markdown",
   "metadata": {},
   "source": [
    "The span of a set of vectors is the set of all linear combinations of the vectors. E.g. for vectors $v_1, \\dots, v_n$, the span is the set of all vectors in the form of $a_1v_1 + \\dots + a_nv_n$, where $a_1, \\dots, a_n$ are any scalars.\n",
    "1. First, [As the dimensionality of a vector refers to the space of which the vector is a member](https://math.stackexchange.com/a/2452453/233623), so the vectors live in a space of dimension $d$ as given. The span of these vectors has to have a dimension less than or equal to $d$. \n",
    "2. Also, the dimension of their span is determined by the number of linearly independent vectors within the $n$ vectors, so it has to be less than or equal to $n$ as well. \n",
    "\n",
    "Combine the two, the dimension of $n$ vectors, each of $d$ dimensions is less than or equal to $min(n,d)$"
   ]
  },
  {
   "cell_type": "markdown",
   "metadata": {},
   "source": [
    "## Given two sets of vectors  $A=a_1,a_2,...,a_n$  and  $B=b_1,b_2,...,b_m$ . How do you check that they share the same basis?"
   ]
  },
  {
   "cell_type": "code",
   "execution_count": null,
   "metadata": {},
   "outputs": [],
   "source": []
  },
  {
   "cell_type": "code",
   "execution_count": null,
   "metadata": {},
   "outputs": [],
   "source": []
  }
 ],
 "metadata": {
  "kernelspec": {
   "display_name": "Python 3",
   "language": "python",
   "name": "python3"
  },
  "language_info": {
   "codemirror_mode": {
    "name": "ipython",
    "version": 3
   },
   "file_extension": ".py",
   "mimetype": "text/x-python",
   "name": "python",
   "nbconvert_exporter": "python",
   "pygments_lexer": "ipython3",
   "version": "3.7.3"
  }
 },
 "nbformat": 4,
 "nbformat_minor": 2
}
